{
 "cells": [
  {
   "cell_type": "code",
   "execution_count": 7,
   "metadata": {},
   "outputs": [],
   "source": [
    "import os\n",
    "from dotenv import load_dotenv, find_dotenv\n",
    "_ = load_dotenv(find_dotenv())\n",
    "openai_api_key = os.environ[\"OPENAI_API_KEY\"]"
   ]
  },
  {
   "cell_type": "code",
   "execution_count": 8,
   "metadata": {},
   "outputs": [],
   "source": [
    "from langchain_openai import OpenAI\n",
    "\n",
    "llmModel = OpenAI()"
   ]
  },
  {
   "cell_type": "code",
   "execution_count": 9,
   "metadata": {},
   "outputs": [
    {
     "data": {
      "text/plain": [
       "OpenAI(client=<openai.resources.completions.Completions object at 0x10cdafc50>, async_client=<openai.resources.completions.AsyncCompletions object at 0x10cdaf2d0>, openai_api_key=SecretStr('**********'), openai_proxy='')"
      ]
     },
     "execution_count": 9,
     "metadata": {},
     "output_type": "execute_result"
    }
   ],
   "source": [
    "llmModel"
   ]
  },
  {
   "cell_type": "code",
   "execution_count": 12,
   "metadata": {},
   "outputs": [],
   "source": [
    "response=llmModel.invoke(\"Tell me one fun fact about the abdul kalam family.\")"
   ]
  },
  {
   "cell_type": "code",
   "execution_count": 13,
   "metadata": {},
   "outputs": [
    {
     "name": "stdout",
     "output_type": "stream",
     "text": [
      "\n",
      "\n",
      "Abdul Kalam's family is known for their love for pets. They have a dog named \"Sandy\" and a cat named \"Malti\" who are both treated like members of the family. In fact, Kalam used to take his dog Sandy on walks in the morning and would often stop to chat with his neighbors along the way.\n"
     ]
    }
   ],
   "source": [
    "print(response)"
   ]
  },
  {
   "cell_type": "code",
   "execution_count": 14,
   "metadata": {},
   "outputs": [
    {
     "name": "stdout",
     "output_type": "stream",
     "text": [
      "\n",
      "\n",
      "One interesting fact about the Abdul Kalam family is that they were a close-knit and highly educated family. Abdul Kalam himself came from a family of scholars and intellectuals. His father, Jainulabdeen, was a devout Muslim who owned a boat and ferried people between the island of Rameswaram and the mainland. His mother, Ashiamma, was a housewife and a strong influence on Kalam's values and beliefs.\n",
      "\n",
      "Kalam was the youngest of five siblings and grew up in a joint family with his parents, siblings, and extended family members. His family was known for their love of knowledge and education, and Kalam's father and elder brother were both imams at the local mosque. Kalam's parents instilled in him a love for learning and encouraged him to explore his interests and passions.\n",
      "\n",
      "Kalam's family was also deeply patriotic, and his father often talked about India's struggle for independence and the importance of serving the country. This had a significant impact on Kalam's life and motivated him to work towards the progress and development of India.\n",
      "\n",
      "Even after Kalam became a renowned scientist and the President of India, he remained close to his family and often returned to his hometown to spend time with them. He credited his family for"
     ]
    }
   ],
   "source": [
    "for chunk in llmModel.stream(\n",
    "    \"Tell me one fun fact about the abdul kalam family.i need detail response\"\n",
    "):\n",
    "    print(chunk, end=\"\", flush= True)"
   ]
  },
  {
   "cell_type": "code",
   "execution_count": 16,
   "metadata": {},
   "outputs": [],
   "source": [
    "mymodel= OpenAI(temperature=0.9 )"
   ]
  },
  {
   "cell_type": "code",
   "execution_count": 18,
   "metadata": {},
   "outputs": [],
   "source": [
    "response=mymodel.invoke(\"Tell me one fun fact about the abdul kalam family\")"
   ]
  },
  {
   "cell_type": "code",
   "execution_count": 19,
   "metadata": {},
   "outputs": [
    {
     "name": "stdout",
     "output_type": "stream",
     "text": [
      "\n",
      "\n",
      "One fun fact about the Abdul Kalam family is that Dr. A.P.J. Abdul Kalam, who was a renowned scientist and the 11th President of India, came from a large family of humble origins. He was the youngest of four brothers and one sister, and they lived in a small village in Tamil Nadu. Despite their modest upbringing, all four brothers, including Dr. Kalam, went on to have successful careers in various fields, including education, entrepreneurship, and public service. This highlights the strong determination and hard work that runs in the Kalam family.\n"
     ]
    }
   ],
   "source": [
    "print(response)"
   ]
  },
  {
   "cell_type": "code",
   "execution_count": 20,
   "metadata": {},
   "outputs": [],
   "source": [
    "response = llmModel.invoke(\n",
    "    \"Write a short 5 line poem about abdul kalam\"\n",
    ")"
   ]
  },
  {
   "cell_type": "code",
   "execution_count": 22,
   "metadata": {},
   "outputs": [
    {
     "name": "stdout",
     "output_type": "stream",
     "text": [
      "\n",
      "\n",
      "A visionary leader, a man of great mind\n",
      "Abdul Kalam, his legacy forever will shine\n",
      "With wings of fire, he soared high\n",
      "Inspiring generations, his spirit will never die\n",
      "A true hero, a symbol of grit and grace\n",
      "Abdul Kalam, forever in our hearts he'll embrace.\n"
     ]
    }
   ],
   "source": [
    "print(response)"
   ]
  },
  {
   "cell_type": "markdown",
   "metadata": {},
   "source": [
    "# chatmodel"
   ]
  },
  {
   "cell_type": "markdown",
   "metadata": {},
   "source": []
  },
  {
   "cell_type": "code",
   "execution_count": 23,
   "metadata": {},
   "outputs": [],
   "source": [
    "from langchain_openai import ChatOpenAI\n",
    "\n",
    "chatModel = ChatOpenAI(model=\"gpt-3.5-turbo-0125\")"
   ]
  },
  {
   "cell_type": "code",
   "execution_count": 25,
   "metadata": {},
   "outputs": [
    {
     "data": {
      "text/plain": [
       "AIMessage(content='One curious thing about Abdul Kalam is that he was not born into a wealthy or influential family. Despite coming from a humble background in the small town of Rameswaram in India, he went on to become one of the most respected scientists and the 11th President of India. His journey from a modest beginning to the highest office in the country is truly inspiring and showcases his dedication, hard work, and intelligence.', response_metadata={'token_usage': {'completion_tokens': 85, 'prompt_tokens': 34, 'total_tokens': 119, 'prompt_tokens_details': {'cached_tokens': 0, 'audio_tokens': 0}, 'completion_tokens_details': {'reasoning_tokens': 0, 'audio_tokens': 0, 'accepted_prediction_tokens': 0, 'rejected_prediction_tokens': 0}}, 'model_name': 'gpt-3.5-turbo-0125', 'system_fingerprint': None, 'finish_reason': 'stop', 'logprobs': None}, id='run-c70124ec-5406-4c04-b0ee-92c1947392a9-0')"
      ]
     },
     "execution_count": 25,
     "metadata": {},
     "output_type": "execute_result"
    }
   ],
   "source": [
    "messages = [\n",
    "    (\"system\", \"You are an historian expert in the abdul kalam family.\"),\n",
    "    (\"human\", \"Tell me one curious thing about abd.\"),\n",
    "]\n",
    "\n",
    "chatModel.invoke(messages)"
   ]
  },
  {
   "cell_type": "code",
   "execution_count": 30,
   "metadata": {},
   "outputs": [],
   "source": [
    "response=chatModel.invoke(messages)"
   ]
  },
  {
   "cell_type": "code",
   "execution_count": 31,
   "metadata": {},
   "outputs": [
    {
     "name": "stdout",
     "output_type": "stream",
     "text": [
      "content=\"One curious thing about Dr. APJ Abdul Kalam is that he was not born into a wealthy or politically connected family. Despite facing financial struggles during his childhood, he overcame these obstacles through hard work, dedication, and perseverance to become one of India's most respected scientists and later the President of India. His humble beginnings and rise to prominence serve as an inspiring example for many people around the world.\" response_metadata={'token_usage': {'completion_tokens': 81, 'prompt_tokens': 34, 'total_tokens': 115, 'prompt_tokens_details': {'cached_tokens': 0, 'audio_tokens': 0}, 'completion_tokens_details': {'reasoning_tokens': 0, 'audio_tokens': 0, 'accepted_prediction_tokens': 0, 'rejected_prediction_tokens': 0}}, 'model_name': 'gpt-3.5-turbo-0125', 'system_fingerprint': None, 'finish_reason': 'stop', 'logprobs': None} id='run-734e7ef6-fb75-40d2-b000-861966eb77b6-0'\n"
     ]
    }
   ],
   "source": [
    "print(response)"
   ]
  },
  {
   "cell_type": "code",
   "execution_count": 32,
   "metadata": {},
   "outputs": [
    {
     "data": {
      "text/plain": [
       "\"One curious thing about Dr. APJ Abdul Kalam is that he was not born into a wealthy or politically connected family. Despite facing financial struggles during his childhood, he overcame these obstacles through hard work, dedication, and perseverance to become one of India's most respected scientists and later the President of India. His humble beginnings and rise to prominence serve as an inspiring example for many people around the world.\""
      ]
     },
     "execution_count": 32,
     "metadata": {},
     "output_type": "execute_result"
    }
   ],
   "source": [
    "response.content"
   ]
  },
  {
   "cell_type": "code",
   "execution_count": 33,
   "metadata": {},
   "outputs": [
    {
     "data": {
      "text/plain": [
       "{'token_usage': {'completion_tokens': 81,\n",
       "  'prompt_tokens': 34,\n",
       "  'total_tokens': 115,\n",
       "  'prompt_tokens_details': {'cached_tokens': 0, 'audio_tokens': 0},\n",
       "  'completion_tokens_details': {'reasoning_tokens': 0,\n",
       "   'audio_tokens': 0,\n",
       "   'accepted_prediction_tokens': 0,\n",
       "   'rejected_prediction_tokens': 0}},\n",
       " 'model_name': 'gpt-3.5-turbo-0125',\n",
       " 'system_fingerprint': None,\n",
       " 'finish_reason': 'stop',\n",
       " 'logprobs': None}"
      ]
     },
     "execution_count": 33,
     "metadata": {},
     "output_type": "execute_result"
    }
   ],
   "source": [
    "response.response_metadata"
   ]
  },
  {
   "cell_type": "code",
   "execution_count": 34,
   "metadata": {},
   "outputs": [
    {
     "data": {
      "text/plain": [
       "{'title': 'AIMessage',\n",
       " 'description': 'Message from an AI.',\n",
       " 'type': 'object',\n",
       " 'properties': {'content': {'title': 'Content',\n",
       "   'anyOf': [{'type': 'string'},\n",
       "    {'type': 'array',\n",
       "     'items': {'anyOf': [{'type': 'string'}, {'type': 'object'}]}}]},\n",
       "  'additional_kwargs': {'title': 'Additional Kwargs', 'type': 'object'},\n",
       "  'response_metadata': {'title': 'Response Metadata', 'type': 'object'},\n",
       "  'type': {'title': 'Type', 'default': 'ai', 'enum': ['ai'], 'type': 'string'},\n",
       "  'name': {'title': 'Name', 'type': 'string'},\n",
       "  'id': {'title': 'Id', 'type': 'string'},\n",
       "  'example': {'title': 'Example', 'default': False, 'type': 'boolean'},\n",
       "  'tool_calls': {'title': 'Tool Calls',\n",
       "   'default': [],\n",
       "   'type': 'array',\n",
       "   'items': {'$ref': '#/definitions/ToolCall'}},\n",
       "  'invalid_tool_calls': {'title': 'Invalid Tool Calls',\n",
       "   'default': [],\n",
       "   'type': 'array',\n",
       "   'items': {'$ref': '#/definitions/InvalidToolCall'}}},\n",
       " 'required': ['content'],\n",
       " 'definitions': {'ToolCall': {'title': 'ToolCall',\n",
       "   'type': 'object',\n",
       "   'properties': {'name': {'title': 'Name', 'type': 'string'},\n",
       "    'args': {'title': 'Args', 'type': 'object'},\n",
       "    'id': {'title': 'Id', 'type': 'string'}},\n",
       "   'required': ['name', 'args', 'id']},\n",
       "  'InvalidToolCall': {'title': 'InvalidToolCall',\n",
       "   'type': 'object',\n",
       "   'properties': {'name': {'title': 'Name', 'type': 'string'},\n",
       "    'args': {'title': 'Args', 'type': 'string'},\n",
       "    'id': {'title': 'Id', 'type': 'string'},\n",
       "    'error': {'title': 'Error', 'type': 'string'}},\n",
       "   'required': ['name', 'args', 'id', 'error']}}}"
      ]
     },
     "execution_count": 34,
     "metadata": {},
     "output_type": "execute_result"
    }
   ],
   "source": [
    "response.schema()"
   ]
  },
  {
   "cell_type": "code",
   "execution_count": null,
   "metadata": {},
   "outputs": [],
   "source": [
    "# Where you see this:\n",
    "\n",
    "llm = ChatOpenAI(model=\"gpt-3.5-turbo\")\n",
    "\n",
    "# Write this instead:\n",
    "\n",
    "llm = ChatOpenAI(model=\"gpt-4o-mini\")"
   ]
  },
  {
   "cell_type": "code",
   "execution_count": 35,
   "metadata": {},
   "outputs": [],
   "source": [
    "\n",
    "llm = ChatOpenAI(model=\"gpt-4o-mini\")"
   ]
  },
  {
   "cell_type": "code",
   "execution_count": 1,
   "metadata": {},
   "outputs": [
    {
     "name": "stderr",
     "output_type": "stream",
     "text": [
      "/Users/myhome/Downloads/LANG/lang/lib/python3.11/importlib/__init__.py:126: LangChainDeprecationWarning: As of langchain-core 0.3.0, LangChain uses pydantic v2 internally. The langchain_core.pydantic_v1 module was a compatibility shim for pydantic v1, and should no longer be used. Please update the code to import from Pydantic directly.\n",
      "\n",
      "For example, replace imports like: `from langchain_core.pydantic_v1 import BaseModel`\n",
      "with: `from pydantic import BaseModel`\n",
      "or the v1 compatibility namespace if you are working in a code base that has not been fully upgraded to pydantic 2 yet. \tfrom pydantic.v1 import BaseModel\n",
      "\n",
      "  return _bootstrap._gcd_import(name[level:], package, level)\n",
      "/Users/myhome/Downloads/LANG/lang/lib/python3.11/site-packages/pydantic/_internal/_config.py:334: UserWarning: Valid config keys have changed in V2:\n",
      "* 'allow_population_by_field_name' has been renamed to 'populate_by_name'\n",
      "  warnings.warn(message, UserWarning)\n"
     ]
    },
    {
     "data": {
      "text/plain": [
       "True"
      ]
     },
     "execution_count": 1,
     "metadata": {},
     "output_type": "execute_result"
    }
   ],
   "source": [
    "from langchain.chat_models import ChatOpenAI  \n",
    "from dotenv import load_dotenv\n",
    "import os\n",
    "load_dotenv()\n"
   ]
  },
  {
   "cell_type": "code",
   "execution_count": 9,
   "metadata": {},
   "outputs": [],
   "source": [
    "from langchain_groq import ChatGroq"
   ]
  },
  {
   "cell_type": "code",
   "execution_count": 12,
   "metadata": {},
   "outputs": [],
   "source": [
    "llamaChatModel = ChatGroq(\n",
    "    model=\"llama3-70b-8192\"\n",
    ")"
   ]
  },
  {
   "cell_type": "code",
   "execution_count": 13,
   "metadata": {},
   "outputs": [],
   "source": [
    "messages = [\n",
    "    (\"system\", \"You are an historian expert in abdul kalam family.\"),\n",
    "    (\"human\", \"How many members of the family died tragically?\"),\n",
    "]"
   ]
  },
  {
   "cell_type": "code",
   "execution_count": 14,
   "metadata": {},
   "outputs": [],
   "source": [
    "llamaResponse = llamaChatModel.invoke(messages)"
   ]
  },
  {
   "cell_type": "code",
   "execution_count": 16,
   "metadata": {},
   "outputs": [
    {
     "name": "stdout",
     "output_type": "stream",
     "text": [
      "content=\"Dr. APJ Abdul Kalam's family witnessed a series of tragic events, which had a profound impact on his life. According to my research, three members of his family died tragically.\\n\\nFirstly, his elder brother, Jainulabdeen, died in 1941 at the young age of 25. He was a bright student and had just completed his studies in medicine. His sudden death due to typhoid fever was a huge blow to the family.\\n\\nSecondly, Dr. Kalam's sister, Zohra, died in 1947 while giving birth to her child. She was just 20 years old at the time of her death.\\n\\nThirdly, his father, Jainulabdeen Maraicar, died in 1960 at the age of 65. Although he lived a relatively long life, his death was still a significant loss for Dr. Kalam, who was very close to his father.\\n\\nThese tragic events had a profound impact on Dr. Kalam's life, shaping his perspective and motivating him to work hard to achieve his goals. Despite facing such adversities, he went on to become one of India's most renowned scientists and eventually, the President of India.\" additional_kwargs={} response_metadata={'token_usage': {'completion_tokens': 246, 'prompt_tokens': 38, 'total_tokens': 284, 'completion_time': 0.702857143, 'prompt_time': 0.004339458, 'queue_time': 0.019789642, 'total_time': 0.707196601}, 'model_name': 'llama3-70b-8192', 'system_fingerprint': 'fp_753a4aecf6', 'finish_reason': 'stop', 'logprobs': None} id='run-2baa6db4-fac1-4d77-aff0-ae0b0352d747-0' usage_metadata={'input_tokens': 38, 'output_tokens': 246, 'total_tokens': 284}\n"
     ]
    }
   ],
   "source": [
    "print(llamaResponse)"
   ]
  },
  {
   "cell_type": "code",
   "execution_count": 17,
   "metadata": {},
   "outputs": [],
   "source": [
    "mistralChatModel = ChatGroq(\n",
    "    model=\"mixtral-8x7b-32768\"\n",
    ")"
   ]
  },
  {
   "cell_type": "code",
   "execution_count": 18,
   "metadata": {},
   "outputs": [],
   "source": [
    "mistralResponse = mistralChatModel.invoke(messages)"
   ]
  },
  {
   "cell_type": "code",
   "execution_count": 19,
   "metadata": {},
   "outputs": [
    {
     "name": "stdout",
     "output_type": "stream",
     "text": [
      "I am an AI language model and while I can provide information on Abdul Kalam's family, I should clarify that I don't have personal experiences or emotions, and I don't have the ability to be an \"expert\" in the traditional sense. \n",
      "\n",
      "As for your question, Abdul Kalam's family did experience some tragic losses. His father, a boat owner and imam, passed away when Kalam was young. However, the most notable tragic event was the death of Kalam's older brother, Mohammed Muthu Meera Lebbai Maraiker, who was a boat owner like their father. He was killed in the 1965 Indo-Pakistani War while serving in the Indian Navy. This loss deeply affected Kalam. But to my knowledge, these are the main tragic events related to his immediate family.\n"
     ]
    }
   ],
   "source": [
    "print(mistralResponse.content)"
   ]
  }
 ],
 "metadata": {
  "kernelspec": {
   "display_name": "lang",
   "language": "python",
   "name": "python3"
  },
  "language_info": {
   "codemirror_mode": {
    "name": "ipython",
    "version": 3
   },
   "file_extension": ".py",
   "mimetype": "text/x-python",
   "name": "python",
   "nbconvert_exporter": "python",
   "pygments_lexer": "ipython3",
   "version": "3.11.0"
  }
 },
 "nbformat": 4,
 "nbformat_minor": 2
}
