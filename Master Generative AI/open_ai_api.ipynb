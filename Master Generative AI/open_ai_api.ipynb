{
 "cells": [
  {
   "cell_type": "code",
   "execution_count": 5,
   "metadata": {},
   "outputs": [
    {
     "name": "stdout",
     "output_type": "stream",
     "text": [
      "\n",
      "\u001b[1m[\u001b[0m\u001b[34;49mnotice\u001b[0m\u001b[1;39;49m]\u001b[0m\u001b[39;49m A new release of pip is available: \u001b[0m\u001b[31;49m24.2\u001b[0m\u001b[39;49m -> \u001b[0m\u001b[32;49m24.3.1\u001b[0m\n",
      "\u001b[1m[\u001b[0m\u001b[34;49mnotice\u001b[0m\u001b[1;39;49m]\u001b[0m\u001b[39;49m To update, run: \u001b[0m\u001b[32;49mpython3 -m pip install --upgrade pip\u001b[0m\n"
     ]
    }
   ],
   "source": [
    "!pip install -qU langchain-openai"
   ]
  },
  {
   "cell_type": "markdown",
   "metadata": {},
   "source": [
    "Docs:- https://github.com/marketplace/models/azure-openai/gpt-4o-mini"
   ]
  },
  {
   "cell_type": "code",
   "execution_count": 3,
   "metadata": {},
   "outputs": [],
   "source": [
    "from langchain_openai import ChatOpenAI\n",
    "from langchain_openai import OpenAI"
   ]
  },
  {
   "cell_type": "code",
   "execution_count": 7,
   "metadata": {},
   "outputs": [
    {
     "name": "stdout",
     "output_type": "stream",
     "text": [
      "One fascinating and heartwarming fact about Dr. A.P.J. Abdul Kalam's family centers around their humble beginnings and the profound influence they had on shaping his remarkable journey.\n",
      "\n",
      "**Humble Roots and Aspirations:**\n",
      "Dr. Kalam was born on October 15, 1931, in Rameswaram, a small town in the southern Indian state of Tamil Nadu. His family was modest; his father, Jainulabdeen, was a boat owner and served as the imam of the local mosque, while his mother, Ashiamma, was a homemaker dedicated to nurturing their five children. Despite limited financial resources, the Kalam family placed immense value on education and instilled strong principles of integrity, perseverance, and humility in their children.\n",
      "\n",
      "**Encouraging Curiosity and Learning:**\n",
      "From a young age, Dr. Kalam exhibited a keen interest in learning and exploration. His family's support was pivotal in fostering this curiosity. For instance, his father, despite his busy schedule running the boat business and fulfilling religious duties, always encouraged Kalam and his siblings to pursue education diligently. This encouragement extended to providing him with books and materials that fueled his passion for science and mathematics.\n",
      "\n",
      "**Building Model Airplanes:**\n",
      "A particularly delightful anecdote that highlights the Kalam family's influence is Kalam's childhood fascination with aviation. Inspired by stories of flight and the mechanics of airplanes, young Abdul Kalam would spend hours building model aircraft using whatever materials were available. These model airplanes were not just toys; they were manifestations of his dreams and aspirations. His family's approval and encouragement of these interests played a crucial role in nurturing his future career in aerospace engineering.\n",
      "\n",
      "**Resilience Through Adversity:**\n",
      "The Kalam family faced their share of challenges, including financial hardships and limited access to advanced educational resources. However, their collective resilience and unwavering support for one another created a nurturing environment that allowed Kalam to excel academically. This strong familial support system was instrumental in his pursuit of higher education and his eventual contributions to India's space and missile programs.\n",
      "\n",
      "**Legacy of Values:**\n",
      "Beyond academic support, the Kalam family emphasized values such as honesty, hard work, and service to the community. These values became the bedrock of Dr. Kalam's character, guiding him through his illustrious career as a scientist and his tenure as the 11th President of India. His ability to remain grounded and approachable, despite his achievements, is often attributed to the strong moral foundation laid by his family.\n",
      "\n",
      "In summary, the Abdul Kalam family, through their unwavering support, encouragement, and instillation of strong values, played a pivotal role in shaping Dr. A.P.J. Abdul Kalam into the visionary leader and beloved national figure he became. Their humble yet nurturing environment exemplifies how family support can transform individual aspirations into extraordinary accomplishments.\n"
     ]
    }
   ],
   "source": [
    "import os\n",
    "from openai import OpenAI\n",
    "\n",
    "token = os.environ[\"GITHUB_TOKEN\"]\n",
    "endpoint = \"https://models.inference.ai.azure.com\"\n",
    "model_name = \"o1-mini\"\n",
    "\n",
    "client = OpenAI(\n",
    "    base_url=endpoint,\n",
    "    api_key=token,\n",
    ")\n",
    "\n",
    "response = client.chat.completions.create(\n",
    "    messages=[\n",
    "        {\n",
    "            \"role\": \"user\",\n",
    "            \"content\": \"Tell me one fun fact about the abdul kalam family.i need detail response\",\n",
    "        }\n",
    "    ],\n",
    "    model=model_name\n",
    ")\n",
    "\n",
    "print(response.choices[0].message.content)"
   ]
  },
  {
   "cell_type": "markdown",
   "metadata": {},
   "source": []
  }
 ],
 "metadata": {
  "kernelspec": {
   "display_name": "Python 3",
   "language": "python",
   "name": "python3"
  },
  "language_info": {
   "codemirror_mode": {
    "name": "ipython",
    "version": 3
   },
   "file_extension": ".py",
   "mimetype": "text/x-python",
   "name": "python",
   "nbconvert_exporter": "python",
   "pygments_lexer": "ipython3",
   "version": "3.12.1"
  }
 },
 "nbformat": 4,
 "nbformat_minor": 2
}
